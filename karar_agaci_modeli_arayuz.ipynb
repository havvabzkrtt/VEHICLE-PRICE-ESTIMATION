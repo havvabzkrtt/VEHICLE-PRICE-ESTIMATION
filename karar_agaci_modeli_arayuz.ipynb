{
 "cells": [
  {
   "cell_type": "code",
   "execution_count": 6,
   "metadata": {},
   "outputs": [],
   "source": [
    "import pandas as pd\n",
    "df = pd.read_csv(\"genel_arac_verileri_egitim_icin.csv\")"
   ]
  },
  {
   "cell_type": "code",
   "execution_count": 28,
   "metadata": {},
   "outputs": [
    {
     "data": {
      "text/plain": [
       "model_yili           1997.0\n",
       "fiyat              142000.0\n",
       "motor_boyutu            1.6\n",
       "motor_gucu            100.0\n",
       "kullanim           272000.0\n",
       "arac_yasi              26.0\n",
       "kac_gun_ilanda        324.0\n",
       "yipranma_degeri      7072.0\n",
       "Name: 975, dtype: float64"
      ]
     },
     "execution_count": 28,
     "metadata": {},
     "output_type": "execute_result"
    }
   ],
   "source": [
    "df.iloc[975]"
   ]
  },
  {
   "cell_type": "code",
   "execution_count": 29,
   "metadata": {},
   "outputs": [],
   "source": [
    "# KARAR AĞACI İLE ARAYÜZ\n",
    "\n",
    "import tkinter as tk\n",
    "from tkinter import Label, Entry, Button\n",
    "import pandas as pd\n",
    "import joblib\n",
    "\n",
    "def tahmin_yap():\n",
    "    model_yili = float(girisler[0].get())\n",
    "    motor_boyutu = float(girisler[1].get())\n",
    "    motor_gucu = float(girisler[2].get())\n",
    "    kullanim = float(girisler[3].get())\n",
    "    arac_yasi = float(girisler[4].get())\n",
    "    kac_gun_ilanda = float(girisler[5].get())\n",
    "    yipranma_degeri = float(girisler[6].get())\n",
    "    \n",
    "    \n",
    "    yipranma_degeri = float(girisler[6].get())\n",
    "\n",
    "    yeniArabaSeries = pd.Series({\n",
    "        'model_yili': model_yili,\n",
    "        'motor_boyutu': motor_boyutu,\n",
    "        'motor_gucu': motor_gucu,\n",
    "        'kullanim': kullanim,\n",
    "        'arac_yasi': arac_yasi,\n",
    "        'kac_gun_ilanda': kac_gun_ilanda,\n",
    "        'yipranma_degeri': yipranma_degeri\n",
    "    })\n",
    "\n",
    "    yeni_veri = yeniArabaSeries.values.reshape(1, -1)\n",
    "\n",
    "    dt_model = joblib.load('karar_agaci_regresyon_modeli.pkl')\n",
    "\n",
    "    tahmin_fiyat = dt_model.predict(yeni_veri)\n",
    "\n",
    "    tahmin_fiyat_label.config(text=f'Tahmini Fiyat: {tahmin_fiyat[0]:,.2f} TL')\n",
    "\n",
    "root = tk.Tk()\n",
    "root.title(\"Araç Fiyat Tahmini\")\n",
    "\n",
    "root.configure(bg=\"#F9F7F7\")\n",
    "\n",
    "baslik_label = Label(root, text=\"Araç Fiyat Tahmini\", font=(\"Helvetica\", 16, \"bold\"), bg=\"#F9F7F7\", pady=10)\n",
    "baslik_label.grid(row=0, column=0, columnspan=2)\n",
    "\n",
    "etiketler = [\"Model Yılı\", \"Motor Boyutu\", \"Motor Gücü\", \"Kullanım\", \"Araç Yaşı\", \"Kaç Gün İlanda\", \"Yıpranma Değeri\"]\n",
    "girisler = []\n",
    "\n",
    "for i, etiket in enumerate(etiketler):\n",
    "    Label(root, text=etiket, font=(\"Helvetica\", 12), bg=\"#F9F7F7\").grid(row=i+1, column=0, pady=5, padx=10, sticky='w')\n",
    "    entry = Entry(root, font=(\"Helvetica\", 12))\n",
    "    entry.grid(row=i+1, column=1, pady=5, padx=10)\n",
    "    girisler.append(entry)\n",
    "\n",
    "tahmin_button = Button(root, text=\"Tahmin Yap\", command=tahmin_yap, bg=\"#0074CC\", fg=\"white\", font=(\"Helvetica\", 12))\n",
    "tahmin_button.grid(row=len(etiketler)+1, column=0, columnspan=2, pady=10)\n",
    "\n",
    "tahmin_fiyat_label = Label(root, text=\"Tahmini Fiyat:\", font=(\"Helvetica\", 14, \"bold\"), bg=\"#F9F7F7\", pady=10)\n",
    "tahmin_fiyat_label.grid(row=len(etiketler)+2, column=0, columnspan=2)\n",
    "\n",
    "root.mainloop()"
   ]
  }
 ],
 "metadata": {
  "kernelspec": {
   "display_name": "Python 3",
   "language": "python",
   "name": "python3"
  },
  "language_info": {
   "codemirror_mode": {
    "name": "ipython",
    "version": 3
   },
   "file_extension": ".py",
   "mimetype": "text/x-python",
   "name": "python",
   "nbconvert_exporter": "python",
   "pygments_lexer": "ipython3",
   "version": "3.9.1"
  }
 },
 "nbformat": 4,
 "nbformat_minor": 2
}
