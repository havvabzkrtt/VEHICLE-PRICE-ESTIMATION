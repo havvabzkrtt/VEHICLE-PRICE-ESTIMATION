{
 "cells": [
  {
   "cell_type": "code",
   "execution_count": 1,
   "metadata": {},
   "outputs": [
    {
     "name": "stdout",
     "output_type": "stream",
     "text": [
      "Eğitim Seti R2 Skoru: 1.00\n",
      "Test Seti R2 Skoru: 0.89\n"
     ]
    }
   ],
   "source": [
    "\n",
    "import pandas as pd\n",
    "from sklearn.model_selection import train_test_split\n",
    "from sklearn.tree import DecisionTreeRegressor\n",
    "from sklearn.metrics import r2_score\n",
    "\n",
    "# CSV dosyasında veri okunarak data'ya aktarılır\n",
    "data = pd.read_csv('genel_arac_verileri_egitim_icin.csv')\n",
    "\n",
    "# Datada ögrnecek sütunları(\"fiyat\") ve sonuc sütunları ayrılır\n",
    "y = data[\"fiyat\"].values\n",
    "X = data.drop(\"fiyat\", axis=1).values\n",
    "\n",
    "# Veri eğitim ve test setleri olarak bölünür\n",
    "X_train, X_test, y_train, y_test = train_test_split(X, y, test_size=0.3, random_state=42)\n",
    "\n",
    "# Karar Ağacı Regresyon modeli oluşturulur ve eğitilir\n",
    "dt_model = DecisionTreeRegressor(random_state=42)\n",
    "dt_model.fit(X_train, y_train)\n",
    "\n",
    "# Eğitim seti üzerinde tahmin yapılır\n",
    "y_train_pred = dt_model.predict(X_train)\n",
    "\n",
    "# Test seti üzerinde tahmin yapılır\n",
    "y_test_pred = dt_model.predict(X_test)\n",
    "\n",
    "\n",
    "# Modelin performansı değerlendirilir\n",
    "r2_train = r2_score(y_train, y_train_pred)\n",
    "r2_test = r2_score(y_test, y_test_pred)\n",
    "\n",
    "print(f'Eğitim Seti R2 Skoru: {r2_train:.2f}')\n",
    "print(f'Test Seti R2 Skoru: {r2_test:.2f}')"
   ]
  },
  {
   "cell_type": "code",
   "execution_count": 2,
   "metadata": {},
   "outputs": [
    {
     "name": "stdout",
     "output_type": "stream",
     "text": [
      "Rastgele Test Örneği 1 İçin Gerçek Fiyat:  288000.00\n",
      "Rastgele Test Örneği 1 İçin Tahmini Fiyat: 365000.00\n",
      "---\n",
      "Rastgele Test Örneği 2 İçin Gerçek Fiyat:  595500.00\n",
      "Rastgele Test Örneği 2 İçin Tahmini Fiyat: 495000.00\n",
      "---\n",
      "Rastgele Test Örneği 3 İçin Gerçek Fiyat:  610000.00\n",
      "Rastgele Test Örneği 3 İçin Tahmini Fiyat: 610000.00\n",
      "---\n",
      "Rastgele Test Örneği 4 İçin Gerçek Fiyat:  937000.00\n",
      "Rastgele Test Örneği 4 İçin Tahmini Fiyat: 895000.00\n",
      "---\n",
      "Rastgele Test Örneği 5 İçin Gerçek Fiyat:  900000.00\n",
      "Rastgele Test Örneği 5 İçin Tahmini Fiyat: 950000.00\n",
      "---\n"
     ]
    }
   ],
   "source": [
    "import numpy as np\n",
    "\n",
    "rastgele_ornek_sayisi = 5\n",
    "\n",
    "rastgele_test_indeksleri = np.random.choice(len(X_test), rastgele_ornek_sayisi, replace=False)\n",
    "rastgele_test_ornekleri = X_test[rastgele_test_indeksleri, :]\n",
    "\n",
    "tahmin_fiyatlar = dt_model.predict(rastgele_test_ornekleri)\n",
    "\n",
    "for i in range(len(tahmin_fiyatlar)):\n",
    "    gercek_fiyat = y_test[rastgele_test_indeksleri[i]]\n",
    "    tahmin_fiyat = tahmin_fiyatlar[i]\n",
    "\n",
    "    print(f'Rastgele Test Örneği {i + 1} İçin Gerçek Fiyat:  {gercek_fiyat:.2f}')\n",
    "    print(f'Rastgele Test Örneği {i + 1} İçin Tahmini Fiyat: {tahmin_fiyat:.2f}')\n",
    "    print('---')"
   ]
  },
  {
   "cell_type": "code",
   "execution_count": 3,
   "metadata": {},
   "outputs": [
    {
     "name": "stdout",
     "output_type": "stream",
     "text": [
      "Test Örneği İçin Gerçek Fiyat:  809500.00\n",
      "Test Örneği İçin Tahmini Fiyat: 854900.00\n"
     ]
    }
   ],
   "source": [
    "# Test setinden bir örnek seçilir\n",
    "ornek_index = 753  # İstenilen index seçilebilir\n",
    "test_ornek = X_test[ornek_index, :].reshape(1, -1)\n",
    "\n",
    "# Modeli kullanarak tahmin yapılır\n",
    "tahmin_fiyat_test_ornek = dt_model.predict(test_ornek)\n",
    "\n",
    "# Gerçek değer alınır\n",
    "gercek_fiyat_test_ornek = y_test[ornek_index]\n",
    "\n",
    "print(f'Test Örneği İçin Gerçek Fiyat:  {gercek_fiyat_test_ornek:.2f}')\n",
    "print(f'Test Örneği İçin Tahmini Fiyat: {tahmin_fiyat_test_ornek[0]:.2f}')\n"
   ]
  },
  {
   "cell_type": "code",
   "execution_count": 4,
   "metadata": {},
   "outputs": [
    {
     "data": {
      "text/plain": [
       "['karar_agaci_regresyon_modeli.pkl']"
      ]
     },
     "execution_count": 4,
     "metadata": {},
     "output_type": "execute_result"
    }
   ],
   "source": [
    "# KARAR AĞACI REGRESYON MODELİNİN DIŞA AKTARILMASI \n",
    "\n",
    "import joblib\n",
    "joblib.dump(dt_model, 'karar_agaci_regresyon_modeli.pkl')"
   ]
  },
  {
   "cell_type": "code",
   "execution_count": null,
   "metadata": {},
   "outputs": [],
   "source": [
    "import sys\n",
    "from PyQt5.QtWidgets import QApplication, QWidget, QLabel, QLineEdit, QVBoxLayout, QPushButton\n",
    "import pandas as pd\n",
    "import joblib\n",
    "\n",
    "class AraçFiyatTahminiUygulaması(QWidget):\n",
    "    def __init__(self):\n",
    "        super().__init__()\n",
    "\n",
    "        self.initUI()\n",
    "\n",
    "    def initUI(self):\n",
    "        self.setWindowTitle('Araç Fiyat Tahmini')\n",
    "        self.setGeometry(100, 100, 400, 300)\n",
    "\n",
    "        self.etiketler = [\"Model Yılı\", \"Motor Boyutu\", \"Motor Gücü\", \"Kullanım\", \"Araç Yaşı\", \"Kaç Gün İlanda\", \"Yıpranma Değeri\"]\n",
    "        self.girisler = []\n",
    "\n",
    "        vbox = QVBoxLayout()\n",
    "\n",
    "        for etiket in self.etiketler:\n",
    "            label = QLabel(etiket)\n",
    "            entry = QLineEdit()\n",
    "            vbox.addWidget(label)\n",
    "            vbox.addWidget(entry)\n",
    "            self.girisler.append(entry)\n",
    "\n",
    "        tahmin_button = QPushButton('Tahmin Yap', self)\n",
    "        tahmin_button.clicked.connect(self.tahmin_yap)\n",
    "        vbox.addWidget(tahmin_button)\n",
    "\n",
    "        self.tahmin_fiyat_label = QLabel('Tahmini Fiyat: ', self)\n",
    "        vbox.addWidget(self.tahmin_fiyat_label)\n",
    "\n",
    "        self.setLayout(vbox)\n",
    "\n",
    "    def tahmin_yap(self):\n",
    "    \n",
    "        model_yili = float(self.girisler[0].text())\n",
    "        motor_boyutu = float(self.girisler[1].text())\n",
    "        motor_gucu = float(self.girisler[2].text())\n",
    "        kullanım = float(self.girisler[3].text())\n",
    "        arac_yasi = float(self.girisler[4].text())\n",
    "        kac_gun_ilanda = float(self.girisler[5].text())\n",
    "        yipranma_degeri = float(self.girisler[6].text())\n",
    "\n",
    "        yeniArabaSeries = pd.Series({\n",
    "            'model_yili': model_yili,\n",
    "            'motor_boyutu': motor_boyutu,\n",
    "            'motor_gucu': motor_gucu,\n",
    "            'kullanım': kullanım,\n",
    "            'arac_yasi': arac_yasi,\n",
    "            'kac_gun_ilanda': kac_gun_ilanda,\n",
    "            'yipranma_degeri': yipranma_degeri\n",
    "        })\n",
    "\n",
    "        yeni_veri = yeniArabaSeries.values.reshape(1, -1)\n",
    "\n",
    "        tahmin_fiyat = self.dt_model.predict(yeni_veri)\n",
    "\n",
    "        self.tahmin_fiyat_label.setText(f'Tahmini Fiyat: {tahmin_fiyat[0]:,.2f} TL')\n",
    "\n",
    "       \n",
    "\n",
    "if __name__ == '__main__':\n",
    "    app = QApplication(sys.argv)\n",
    "    \n",
    "    # Eğitilmiş modelin yüklenmesi\n",
    "    #dt_model = joblib.load('egitilmis_model.pkl')\n",
    "\n",
    "    uygulama = AraçFiyatTahminiUygulaması()\n",
    "    uygulama.show()\n",
    "\n",
    "    sys.exit(app.exec_())\n"
   ]
  }
 ],
 "metadata": {
  "kernelspec": {
   "display_name": "Python 3",
   "language": "python",
   "name": "python3"
  },
  "language_info": {
   "codemirror_mode": {
    "name": "ipython",
    "version": 3
   },
   "file_extension": ".py",
   "mimetype": "text/x-python",
   "name": "python",
   "nbconvert_exporter": "python",
   "pygments_lexer": "ipython3",
   "version": "3.9.1"
  }
 },
 "nbformat": 4,
 "nbformat_minor": 2
}
