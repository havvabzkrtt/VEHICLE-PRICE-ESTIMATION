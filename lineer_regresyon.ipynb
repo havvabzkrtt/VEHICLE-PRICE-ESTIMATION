{
 "cells": [
  {
   "cell_type": "code",
   "execution_count": 1,
   "metadata": {},
   "outputs": [
    {
     "name": "stdout",
     "output_type": "stream",
     "text": [
      "Eğitim Seti R2 Skoru: 0.83\n",
      "Test Seti R2 Skoru: 0.83\n"
     ]
    }
   ],
   "source": [
    "import pandas as pd\n",
    "from sklearn.model_selection import train_test_split\n",
    "from sklearn.linear_model import LinearRegression\n",
    "from sklearn.metrics import r2_score\n",
    "\n",
    "# CSV dosyasından veri okunarak data'ya aktarılır\n",
    "data = pd.read_csv('genel_arac_verileri_egitim_icin.csv')\n",
    "\n",
    "# Datada ögrnecek sütunları(\"fiyat\") ve sonuc sütunları ayrılır\n",
    "y=data[\"fiyat\"].values\n",
    "X=data.drop(\"fiyat\",axis=1).values\n",
    "\n",
    "# Veri eğitim ve test setleri olarak bölünür\n",
    "X_train, X_test, y_train, y_test = train_test_split(X, y, test_size=0.3, random_state=42)\n",
    "\n",
    "# Lineer regresyon modeli oluşturulur vee eğitilir\n",
    "model = LinearRegression()\n",
    "model.fit(X_train, y_train)\n",
    "\n",
    "# Eğitim seti üzerinde tahmin yapılır\n",
    "y_train_pred = model.predict(X_train)\n",
    "\n",
    "# Test seti üzerinde tahmin yapılır.\n",
    "y_test_pred = model.predict(X_test)\n",
    "\n",
    "# Modelin performansı değerlendirilir\n",
    "r2_train = r2_score(y_train, y_train_pred)\n",
    "r2_test = r2_score(y_test, y_test_pred)\n",
    "\n",
    "print(f'Eğitim Seti R2 Skoru: {r2_train:.2f}')\n",
    "print(f'Test Seti R2 Skoru: {r2_test:.2f}')"
   ]
  },
  {
   "cell_type": "code",
   "execution_count": 3,
   "metadata": {},
   "outputs": [
    {
     "name": "stdout",
     "output_type": "stream",
     "text": [
      "Rastgele Test Örneği 1 İçin Gerçek Fiyat:  477500.00\n",
      "Rastgele Test Örneği 1 İçin Tahmini Fiyat: 555121.97\n",
      "---\n",
      "Rastgele Test Örneği 2 İçin Gerçek Fiyat:  567000.00\n",
      "Rastgele Test Örneği 2 İçin Tahmini Fiyat: 682930.11\n",
      "---\n",
      "Rastgele Test Örneği 3 İçin Gerçek Fiyat:  400000.00\n",
      "Rastgele Test Örneği 3 İçin Tahmini Fiyat: 548791.31\n",
      "---\n",
      "Rastgele Test Örneği 4 İçin Gerçek Fiyat:  446000.00\n",
      "Rastgele Test Örneği 4 İçin Tahmini Fiyat: 523489.01\n",
      "---\n",
      "Rastgele Test Örneği 5 İçin Gerçek Fiyat:  1175000.00\n",
      "Rastgele Test Örneği 5 İçin Tahmini Fiyat: 832135.38\n",
      "---\n"
     ]
    }
   ],
   "source": [
    "import numpy as np\n",
    "\n",
    "rastgele_ornek_sayisi = 5\n",
    "\n",
    "rastgele_test_indeksleri = np.random.choice(len(X_test), rastgele_ornek_sayisi, replace=False)\n",
    "rastgele_test_ornekleri = X_test[rastgele_test_indeksleri, :]\n",
    "\n",
    "tahmin_fiyatlar = model.predict(rastgele_test_ornekleri)\n",
    "\n",
    "for i in range(len(tahmin_fiyatlar)):\n",
    "    gercek_fiyat = y_test[rastgele_test_indeksleri[i]]\n",
    "    tahmin_fiyat = tahmin_fiyatlar[i]\n",
    "\n",
    "    print(f'Rastgele Test Örneği {i + 1} İçin Gerçek Fiyat:  {gercek_fiyat:.2f}')\n",
    "    print(f'Rastgele Test Örneği {i + 1} İçin Tahmini Fiyat: {tahmin_fiyat:.2f}')\n",
    "    print('---')"
   ]
  },
  {
   "cell_type": "code",
   "execution_count": 13,
   "metadata": {},
   "outputs": [
    {
     "name": "stdout",
     "output_type": "stream",
     "text": [
      "Test Örneği İçin Gerçek Fiyat:  809500.00\n",
      "Test Örneği İçin Tahmini Fiyat: 842702.36\n"
     ]
    }
   ],
   "source": [
    "# Test setinden bir örnek seçilir\n",
    "ornek_index = 753  # İstenilen index seçilebilir\n",
    "test_ornek = X_test[ornek_index, :].reshape(1, -1)\n",
    "\n",
    "# Modeli kullanarak tahmin yapılır\n",
    "tahmin_fiyat_test_ornek = model.predict(test_ornek)\n",
    "\n",
    "# Gerçek değer alınır\n",
    "gercek_fiyat_test_ornek = y_test[ornek_index]\n",
    "\n",
    "print(f'Test Örneği İçin Gerçek Fiyat:  {gercek_fiyat_test_ornek:.2f}')\n",
    "print(f'Test Örneği İçin Tahmini Fiyat: {tahmin_fiyat_test_ornek[0]:.2f}')"
   ]
  },
  {
   "cell_type": "code",
   "execution_count": 6,
   "metadata": {},
   "outputs": [
    {
     "data": {
      "text/plain": [
       "['lineer_regresyon_modeli.pkl']"
      ]
     },
     "execution_count": 6,
     "metadata": {},
     "output_type": "execute_result"
    }
   ],
   "source": [
    "# LİNEER REGRESYON MODELİNİN DIŞA AKTARILMASI \n",
    "\n",
    "\n",
    "import joblib\n",
    "joblib.dump(model, 'lineer_regresyon_modeli.pkl')"
   ]
  }
 ],
 "metadata": {
  "kernelspec": {
   "display_name": "Python 3",
   "language": "python",
   "name": "python3"
  },
  "language_info": {
   "codemirror_mode": {
    "name": "ipython",
    "version": 3
   },
   "file_extension": ".py",
   "mimetype": "text/x-python",
   "name": "python",
   "nbconvert_exporter": "python",
   "pygments_lexer": "ipython3",
   "version": "3.9.1"
  }
 },
 "nbformat": 4,
 "nbformat_minor": 2
}
