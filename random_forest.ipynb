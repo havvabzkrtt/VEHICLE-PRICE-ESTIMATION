{
 "cells": [
  {
   "cell_type": "code",
   "execution_count": 1,
   "metadata": {},
   "outputs": [
    {
     "name": "stdout",
     "output_type": "stream",
     "text": [
      "Eğitim Seti R2 Skoru: 0.99\n",
      "Test Seti R2 Skoru: 0.94\n",
      "Rastgele Test Örneği 1 İçin Gerçek Fiyat:  812000.00\n",
      "Rastgele Test Örneği 1 İçin Tahmini Fiyat: 825784.50\n",
      "---\n",
      "Rastgele Test Örneği 2 İçin Gerçek Fiyat:  807500.00\n",
      "Rastgele Test Örneği 2 İçin Tahmini Fiyat: 848825.00\n",
      "---\n",
      "Rastgele Test Örneği 3 İçin Gerçek Fiyat:  1110000.00\n",
      "Rastgele Test Örneği 3 İçin Tahmini Fiyat: 1089455.00\n",
      "---\n",
      "Rastgele Test Örneği 4 İçin Gerçek Fiyat:  275000.00\n",
      "Rastgele Test Örneği 4 İçin Tahmini Fiyat: 319955.00\n",
      "---\n",
      "Rastgele Test Örneği 5 İçin Gerçek Fiyat:  436000.00\n",
      "Rastgele Test Örneği 5 İçin Tahmini Fiyat: 428437.00\n",
      "---\n"
     ]
    }
   ],
   "source": [
    "\n",
    "import pandas as pd\n",
    "from sklearn.model_selection import train_test_split\n",
    "from sklearn.ensemble import RandomForestRegressor\n",
    "from sklearn.metrics import mean_squared_error, r2_score\n",
    "import matplotlib.pyplot as plt\n",
    "import joblib\n",
    "\n",
    "# CSV dosyasında veri okunarak data'ya aktarılır\n",
    "data = pd.read_csv('genel_arac_verileri_egitim_icin.csv')\n",
    "\n",
    "# Datada ögrnecek sütunları(\"fiyat\") ve sonuc sütunları ayrılır\n",
    "y = data[\"fiyat\"].values\n",
    "X = data.drop(\"fiyat\", axis=1).values\n",
    "\n",
    "# Veri eğitim ve test setleri olarak bölünür\n",
    "X_train, X_test, y_train, y_test = train_test_split(X, y, test_size=0.3, random_state=42)\n",
    "\n",
    "# Random Forest Regresyon modeli oluşturulur ve eğitilir\n",
    "rf_model = RandomForestRegressor(n_estimators=100, random_state=42)\n",
    "rf_model.fit(X_train, y_train)\n",
    "\n",
    "# Eğitim seti üzerinde tahmin yapılır\n",
    "y_train_pred = rf_model.predict(X_train)\n",
    "\n",
    "# Test seti üzerinde tahmin yapılır\n",
    "y_test_pred = rf_model.predict(X_test)\n",
    "\n",
    "# Modelin performansı değerlendirilir\n",
    "r2_train = r2_score(y_train, y_train_pred)\n",
    "r2_test = r2_score(y_test, y_test_pred)\n",
    "\n",
    "print(f'Eğitim Seti R2 Skoru: {r2_train:.2f}')\n",
    "print(f'Test Seti R2 Skoru: {r2_test:.2f}')\n"
   ]
  },
  {
   "cell_type": "code",
   "execution_count": 2,
   "metadata": {},
   "outputs": [
    {
     "name": "stdout",
     "output_type": "stream",
     "text": [
      "Rastgele Test Örneği 1 İçin Gerçek Fiyat:  349000.00\n",
      "Rastgele Test Örneği 1 İçin Tahmini Fiyat: 393475.49\n",
      "---\n",
      "Rastgele Test Örneği 2 İçin Gerçek Fiyat:  672000.00\n",
      "Rastgele Test Örneği 2 İçin Tahmini Fiyat: 659035.00\n",
      "---\n",
      "Rastgele Test Örneği 3 İçin Gerçek Fiyat:  1215000.00\n",
      "Rastgele Test Örneği 3 İçin Tahmini Fiyat: 1079834.93\n",
      "---\n",
      "Rastgele Test Örneği 4 İçin Gerçek Fiyat:  360000.00\n",
      "Rastgele Test Örneği 4 İçin Tahmini Fiyat: 373137.50\n",
      "---\n",
      "Rastgele Test Örneği 5 İçin Gerçek Fiyat:  327000.00\n",
      "Rastgele Test Örneği 5 İçin Tahmini Fiyat: 358970.49\n",
      "---\n"
     ]
    }
   ],
   "source": [
    "import numpy as np\n",
    "\n",
    "rastgele_ornek_sayisi = 5\n",
    "\n",
    "rastgele_test_indeksleri = np.random.choice(len(X_test), rastgele_ornek_sayisi, replace=False)\n",
    "rastgele_test_ornekleri = X_test[rastgele_test_indeksleri, :]\n",
    "\n",
    "tahmin_fiyatlar = rf_model.predict(rastgele_test_ornekleri)\n",
    "\n",
    "for i in range(len(tahmin_fiyatlar)):\n",
    "    gercek_fiyat = y_test[rastgele_test_indeksleri[i]]\n",
    "    tahmin_fiyat = tahmin_fiyatlar[i]\n",
    "\n",
    "    print(f'Rastgele Test Örneği {i + 1} İçin Gerçek Fiyat:  {gercek_fiyat:.2f}')\n",
    "    print(f'Rastgele Test Örneği {i + 1} İçin Tahmini Fiyat: {tahmin_fiyat:.2f}')\n",
    "    print('---')"
   ]
  },
  {
   "cell_type": "code",
   "execution_count": 11,
   "metadata": {},
   "outputs": [
    {
     "name": "stdout",
     "output_type": "stream",
     "text": [
      "Test Örneği İçin Gerçek Fiyat:  809500.00\n",
      "Test Örneği İçin Tahmini Fiyat: 761683.00\n"
     ]
    }
   ],
   "source": [
    "# Test setinden bir örnek seçilir\n",
    "ornek_index = 753  # İstenilen index seçilebilir\n",
    "test_ornek = X_test[ornek_index, :].reshape(1, -1)\n",
    "\n",
    "# Modeli kullanarak tahmin yapılır\n",
    "tahmin_fiyat_test_ornek = rf_model.predict(test_ornek)\n",
    "\n",
    "# Gerçek değer alınır\n",
    "gercek_fiyat_test_ornek = y_test[ornek_index]\n",
    "\n",
    "print(f'Test Örneği İçin Gerçek Fiyat:  {gercek_fiyat_test_ornek:.2f}')\n",
    "print(f'Test Örneği İçin Tahmini Fiyat: {tahmin_fiyat_test_ornek[0]:.2f}')\n"
   ]
  },
  {
   "cell_type": "code",
   "execution_count": 4,
   "metadata": {},
   "outputs": [
    {
     "data": {
      "text/plain": [
       "['random_forest_regresyon_modeli.pkl']"
      ]
     },
     "execution_count": 4,
     "metadata": {},
     "output_type": "execute_result"
    }
   ],
   "source": [
    "# RANDOM FOREST REGRESYON MODELİNİN DIŞA AKTARILMASI \n",
    "\n",
    "import joblib\n",
    "joblib.dump(rf_model, 'random_forest_regresyon_modeli.pkl')"
   ]
  }
 ],
 "metadata": {
  "kernelspec": {
   "display_name": "Python 3",
   "language": "python",
   "name": "python3"
  },
  "language_info": {
   "codemirror_mode": {
    "name": "ipython",
    "version": 3
   },
   "file_extension": ".py",
   "mimetype": "text/x-python",
   "name": "python",
   "nbconvert_exporter": "python",
   "pygments_lexer": "ipython3",
   "version": "3.9.1"
  }
 },
 "nbformat": 4,
 "nbformat_minor": 2
}
